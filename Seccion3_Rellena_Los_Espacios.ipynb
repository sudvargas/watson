{
    "cells": [
        {
            "cell_type": "code",
            "execution_count": null,
            "metadata": {
                "collapsed": true
            },
            "outputs": [],
            "source": "#Datos\ningresos = [14574.49, 7606.46, 8611.41, 9175.41, 8058.65, 8105.44, 11496.28, 9766.09, 10305.32, 14379.96, 10713.97, 15433.50]\ngastos = [12051.82, 5695.07, 12319.20, 12089.72, 8658.57, 840.20, 3285.73, 5821.12, 6976.93, 16618.61, 10054.37, 3803.96]"
        },
        {
            "cell_type": "code",
            "execution_count": null,
            "metadata": {
                "collapsed": true
            },
            "outputs": [],
            "source": "#Respuesta\n#Calcular la Utilidad como la diferencia entre los Ingresos y los Gastos\nutilidad = ___\n\nfor i in range (0, len(_____)):\n    _____.append(___[i] - _____ [i])\nutilidad"
        },
        {
            "cell_type": "code",
            "execution_count": null,
            "metadata": {
                "collapsed": true
            },
            "outputs": [],
            "source": "#Calcular el impuesto como el 30% de la utilidad y redondea a 2 puntos decimales\nimpuesto = [round(i * ___, ___) for i in _____]\nimpuesto\n\n"
        },
        {
            "cell_type": "code",
            "execution_count": null,
            "metadata": {
                "collapsed": true
            },
            "outputs": [],
            "source": "#Calcular la Utilidad despu\u00e9s de restarle el impuesto\nutilidad_despues_de_impuestos = ____\nfor i in range (0, len(____)):\n    _______.append(______[i] - ____[i])\nutilidad_despues_de_impuestos"
        },
        {
            "cell_type": "code",
            "execution_count": null,
            "metadata": {
                "collapsed": true
            },
            "outputs": [],
            "source": "#Calcular el margen de Utilidad como la Utilidad Despu\u00e9s de Impuestos sobre los Ingresos\n#Redondea a 2 puntos decimales, luego multiplica por 100 para obtener el %\nmargen_de_utilidad = ____\nfor i in range (0, len(_____)):\n    _______.append(_______[i] / ______[i])\nmargen_de_utilidad\n\nmargen_de_utilidad = [_____((_____),___) for i in margen_de_utilidad]\n\nmargen_de_utilidad"
        },
        {
            "cell_type": "code",
            "execution_count": null,
            "metadata": {
                "collapsed": true
            },
            "outputs": [],
            "source": "#Calcula el promedio de la Utilidad Despu\u00e9s de Impuestos (UDI) para los \u00faltimos 12 meses\npromedio_udi = sum(______) / len(______)\npromedio_udi"
        },
        {
            "cell_type": "code",
            "execution_count": null,
            "metadata": {
                "collapsed": true
            },
            "outputs": [],
            "source": "#Encuentra los meses con Utilidad por encima del promedio de la Utilidad Despu\u00e9s de \u00cfmpuestos promedio \nmeses_buenos = ______\nfor i in range (0, len(_______)):\n    _______.append(______[i] > ______)\nmeses_buenos"
        },
        {
            "cell_type": "code",
            "execution_count": null,
            "metadata": {
                "collapsed": true
            },
            "outputs": [],
            "source": "#Los Meses Malos son lo opuesto a los Meses Buenos!\nmeses_malos = ______\nfor i in range (0, len(_______)):\n    _______.append(not (________[i]))\nmeses_malos"
        },
        {
            "cell_type": "code",
            "execution_count": null,
            "metadata": {
                "collapsed": true
            },
            "outputs": [],
            "source": "#El Mejor Mes es donde la Utilidad Despu\u00e9s de Impuestos fue igual al m\u00e1ximo \nmejor_mes = ______\nfor i in range (0, len(________)):\n    ________.append(_______[i] == max(________))\nmejor_mes"
        },
        {
            "cell_type": "code",
            "execution_count": null,
            "metadata": {
                "collapsed": true
            },
            "outputs": [],
            "source": "#El Peor Mes es donde la Utilidad Despu\u00e9s de Impuestos fue igual al m\u00ednimo \npeor_mes = _______\nfor i in range (0, len(_______)):\n    _______.append(________[i] == min(__________))\npeor_mes"
        },
        {
            "cell_type": "code",
            "execution_count": null,
            "metadata": {
                "collapsed": true
            },
            "outputs": [],
            "source": "#Convierte todos los c\u00e1lculos a unidades de miles de d\u00f3lares\ningresos_1000 = [round(____, ___) for i in _____]\ngastos_1000 = [round(_____, ___) for i in ______]\nutilidad_1000 = [round(_____, ___) for i in ______]\nutilidad_despues_de_impuestos_1000 = [round(______, 0) for i in ______]\n\ningresos_1000 = [int(i) for i in ______]\ngastos_1000 = [int(i) for i in ______]\nutilidad_1000 = [int(i) for i in ______]\nutilidad_despues_de_impuestos_1000 = [int(i) for i in ______]"
        },
        {
            "cell_type": "code",
            "execution_count": null,
            "metadata": {
                "collapsed": true
            },
            "outputs": [],
            "source": "#Imprime los Resultados\nprint (\"Ingresos :\") \nprint (ingresos_1000)\nprint (\"Gastos :\") \nprint (gastos_1000)\nprint (\"Utilidad :\")\nprint (utilidad_1000)\nprint (\"Utilidad Despu\u00e9s de Impuestos :\")\nprint (utilidad_despues_de_impuestos_1000)\nprint (\"Margen de utilidad :\")\nprint (margen_de_utilidad)\nprint (\"Buenos meses :\")\nprint (meses_buenos)\nprint (\"Meses malos :\")\nprint (meses_malos)\nprint (\"Mejor mes :\")\nprint (mejor_mes)\nprint (\"Peor mes :\")\nprint (peor_mes)"
        }
    ],
    "metadata": {
        "anaconda-cloud": {},
        "kernelspec": {
            "display_name": "Python 3.7",
            "language": "python",
            "name": "python3"
        },
        "language_info": {
            "codemirror_mode": {
                "name": "ipython",
                "version": 3
            },
            "file_extension": ".py",
            "mimetype": "text/x-python",
            "name": "python",
            "nbconvert_exporter": "python",
            "pygments_lexer": "ipython3",
            "version": "3.7.9"
        }
    },
    "nbformat": 4,
    "nbformat_minor": 1
}